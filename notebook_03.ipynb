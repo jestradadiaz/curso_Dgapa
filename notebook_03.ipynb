{
 "cells": [
  {
   "cell_type": "markdown",
   "metadata": {},
   "source": [
    "# Pelota que cae\n",
    "\n",
    "Las ecuaciones de Newton son:\n",
    "\n",
    "$m \\frac{d^2\\vec r}{dt^2} = -g\\hat k +\\vec f_{friccion} + \\vec f_{ext} $"
   ]
  },
  {
   "cell_type": "code",
   "execution_count": 18,
   "metadata": {
    "collapsed": false
   },
   "outputs": [],
   "source": [
    "from pylab import*\n",
    "from scipy.integrate import*\n",
    "%matplotlib inline"
   ]
  },
  {
   "cell_type": "code",
   "execution_count": 73,
   "metadata": {
    "collapsed": true
   },
   "outputs": [],
   "source": [
    "def fuerza(v_r,t, gamma=0, viento=[0,0], m=1.,g=9.8):\n",
    "    # v_r = [r, rz, vy, vz]\n",
    "    dvz = -g/m -gamma/m*v_r[3] +viento[1]\n",
    "    dvy = 0 -gamma/m*v_r[2]+viento[0]\n",
    "    drz = v_r[3]\n",
    "    dry = v_r[2]\n",
    "    return [dry, drz, dvy, dvz]"
   ]
  },
  {
   "cell_type": "code",
   "execution_count": 74,
   "metadata": {
    "collapsed": false
   },
   "outputs": [
    {
     "data": {
      "image/png": "[encoded data removed]",
      "text/plain": [
       "<matplotlib.figure.Figure at 0x7f8cf96c9710>"
      ]
     },
     "metadata": {},
     "output_type": "display_data"
    }
   ],
   "source": [
    "tiempo=linspace(0,1)\n",
    "sol_0 =odeint(fuerza,[0,0,1,5],tiempo)\n",
    "y0,z0 = sol_0[:,0],sol_0[:,1]\n",
    "sol_1 =odeint(fuerza,[0,0,1,5],tiempo,args=(0.5,))\n",
    "y1,z1 = sol_1[:,0], sol_1[:,1]\n",
    "sol_2 =odeint(fuerza,[0,0,1,5],tiempo,args=(0.5,[-.5,0]))\n",
    "y2,z2 = sol_2[:,0], sol_2[:,1]\n",
    "#xlim([-1,1.1]),ylim([0,1.4]),grid(True)\n",
    "plot(y0,z0, y1,z1, y2,z2)\n",
    "show()"
   ]
  },
  {
   "cell_type": "code",
   "execution_count": 43,
   "metadata": {
    "collapsed": false
   },
   "outputs": [],
   "source": [
    "def delta_tray(r0, dt=0.1, param=[0, [0,0], 1, 9.8]):\n",
    "    tiempo = array([0,dt])\n",
    "    sol = odeint(fuerza, r0, tiempo, args=(param[0],param[1],param[2],param[3]))\n",
    "    return sol"
   ]
  },
  {
   "cell_type": "code",
   "execution_count": 138,
   "metadata": {
    "collapsed": false
   },
   "outputs": [],
   "source": [
    "def rebote(pto, dt, param):\n",
    "    error = 1e-5\n",
    "    dt = dt/2\n",
    "    sol =odeint(fuerza, pto, [0,dt], args=(param[0],param[1],param[2],param[3],))\n",
    "    while abs(sol[:,1][0]-sol[:,1][1]) > error:\n",
    "        if sol[:,1][0]*sol[:,1][1] < 0:\n",
    "            pto = sol[0]\n",
    "        else:\n",
    "            pto = sol[1]\n",
    "        dt = dt/2\n",
    "        sol =odeint(fuerza, pto, [0,dt], args=(param[0],param[1],param[2],param[3],))\n",
    "        #print sol[0]\n",
    "    return [sol[0][0],sol[0][1],sol[0][2],-sol[0][3]]"
   ]
  },
  {
   "cell_type": "code",
   "execution_count": 135,
   "metadata": {
    "collapsed": false
   },
   "outputs": [
    {
     "name": "stdout",
     "output_type": "stream",
     "text": [
      "[ 0.6    0.036  1.    -2.88 ]\n",
      "[ 0.6    0.036  1.    -2.88 ]\n",
      "[ 0.60625     0.01780859  1.         -2.94125   ]\n",
      "[ 0.609375    0.00856934  1.         -2.971875  ]\n",
      "[ 0.6109375   0.00391382  1.         -2.9871875 ]\n",
      "[  6.11718750e-01   1.57708739e-03   1.00000000e+00  -2.99484375e+00]\n",
      "[  6.12109375e-01   4.06478874e-04   1.00000000e+00  -2.99867188e+00]\n",
      "[  6.12109375e-01   4.06478874e-04   1.00000000e+00  -2.99867188e+00]\n",
      "[  6.12207031e-01   1.13593094e-04   1.00000000e+00  -2.99962891e+00]\n",
      "[  6.12207031e-01   1.13593094e-04   1.00000000e+00  -2.99962891e+00]\n",
      "[  6.12231445e-01   4.03570457e-05   1.00000000e+00  -2.99986816e+00]\n",
      "[  6.12243652e-01   3.73683110e-06   1.00000000e+00  -2.99998779e+00]\n",
      "[  6.12243652e-01   3.73683110e-06   1.00000000e+00  -2.99998779e+00]\n"
     ]
    },
    {
     "data": {
      "text/plain": [
       "[0.61224365234374989, 3.7368311003308554e-06, 1.0, 2.9999877929687497]"
      ]
     },
     "execution_count": 135,
     "metadata": {},
     "output_type": "execute_result"
    }
   ],
   "source": [
    "rebote([0.6, 0.036, 1., -2.88], 0.05, [0,[0,0],1, 9.8])"
   ]
  },
  {
   "cell_type": "code",
   "execution_count": 157,
   "metadata": {
    "collapsed": false
   },
   "outputs": [],
   "source": [
    "def trayec(r0, tf, param=[0, [0,0], 1, 9.8]):\n",
    "    t_tot, dt =[0], .01\n",
    "    y = [r0[0]]\n",
    "    z = [r0[1]]\n",
    "    t_actual = 0.\n",
    "    while t_actual <= tf :\n",
    "        t_actual = t_actual + dt\n",
    "        sol =odeint(fuerza, r0, [0,dt], args=(param[0],param[1],param[2],param[3],))\n",
    "        if sol[:,1][0]*sol[:,1][1] < 0.:\n",
    "            sol1=rebote(sol[0],dt,param)\n",
    "            y.append(sol1[0])\n",
    "            z.append(sol1[1])\n",
    "            r0=sol1\n",
    "        else:\n",
    "            y.append(sol[:,0][1])\n",
    "            z.append(sol[:,1][1])\n",
    "            r0 = sol[1]\n",
    "        #print y,z\n",
    "    return y,z"
   ]
  },
  {
   "cell_type": "code",
   "execution_count": 167,
   "metadata": {
    "collapsed": false
   },
   "outputs": [
    {
     "data": {
      "image/png": "[encoded data removed]",
      "text/plain": [
       "<matplotlib.figure.Figure at 0x7f8cf965f3d0>"
      ]
     },
     "metadata": {},
     "output_type": "display_data"
    }
   ],
   "source": [
    "yv, zv = trayec([0,0,1,5],2., [.5,[-3.5,0],1, 9.8])\n",
    "yf, zf = trayec([0,0,1,5],2., [.5,[0,0],1, 9.8])\n",
    "yideal, zideal = trayec([0,0,1,5],2.)\n",
    "plot(yv,zv,'*', yideal, zideal, yf,zf,'o')\n",
    "show()"
   ]
  },
  {
   "cell_type": "code",
   "execution_count": null,
   "metadata": {
    "collapsed": true
   },
   "outputs": [],
   "source": []
  },
  {
   "cell_type": "code",
   "execution_count": null,
   "metadata": {
    "collapsed": true
   },
   "outputs": [],
   "source": []
  },
  {
   "cell_type": "markdown",
   "metadata": {
    "collapsed": true
   },
   "source": [
    "simular el rebote"
   ]
  },
  {
   "cell_type": "code",
   "execution_count": 11,
   "metadata": {
    "collapsed": true
   },
   "outputs": [],
   "source": [
    "def func1(x,y,otra_fun):\n",
    "    x=out = otra_fun(x)+y\n",
    "    return out\n",
    "\n",
    "def func2(x):\n",
    "    out = x**2\n",
    "    return out\n",
    "def func3(x):\n",
    "    out = x**3\n",
    "    return out"
   ]
  },
  {
   "cell_type": "code",
   "execution_count": 14,
   "metadata": {
    "collapsed": false
   },
   "outputs": [
    {
     "data": {
      "text/plain": [
       "24"
      ]
     },
     "execution_count": 14,
     "metadata": {},
     "output_type": "execute_result"
    }
   ],
   "source": [
    "func1(4,8,func2)"
   ]
  },
  {
   "cell_type": "code",
   "execution_count": null,
   "metadata": {
    "collapsed": true
   },
   "outputs": [],
   "source": []
  }
 ],
 "metadata": {
  "kernelspec": {
   "display_name": "Python [Root]",
   "language": "python",
   "name": "Python [Root]"
  },
  "language_info": {
   "codemirror_mode": {
    "name": "ipython",
    "version": 2
   },
   "file_extension": ".py",
   "mimetype": "text/x-python",
   "name": "python",
   "nbconvert_exporter": "python",
   "pygments_lexer": "ipython2",
   "version": "2.7.12"
  }
 },
 "nbformat": 4,
 "nbformat_minor": 0
}
